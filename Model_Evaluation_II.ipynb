{
  "nbformat": 4,
  "nbformat_minor": 0,
  "metadata": {
    "accelerator": "GPU",
    "colab": {
      "name": "Model Evaluation II.ipynb",
      "provenance": [],
      "collapsed_sections": [],
      "authorship_tag": "ABX9TyOKtlB4SdrmzVV8vo45UhNO",
      "include_colab_link": true
    },
    "kernelspec": {
      "display_name": "Python 3",
      "name": "python3"
    }
  },
  "cells": [
    {
      "cell_type": "markdown",
      "metadata": {
        "id": "view-in-github",
        "colab_type": "text"
      },
      "source": [
        "<a href=\"https://colab.research.google.com/github/jadiribnahasan/Pattern-Lab/blob/main/Model_Evaluation_II.ipynb\" target=\"_parent\"><img src=\"https://colab.research.google.com/assets/colab-badge.svg\" alt=\"Open In Colab\"/></a>"
      ]
    },
    {
      "cell_type": "code",
      "metadata": {
        "colab": {
          "base_uri": "https://localhost:8080/"
        },
        "id": "TN9NFscnWt0Y",
        "outputId": "24de348b-9c97-40e5-8dbd-fbaa2a0bc1ae"
      },
      "source": [
        "from google.colab import drive\r\n",
        "drive.mount('/content/gdrive', force_remount=True)\r\n",
        "%cd /content/gdrive/My Drive/Pattern Lab - 203sem"
      ],
      "execution_count": 1,
      "outputs": [
        {
          "output_type": "stream",
          "text": [
            "Mounted at /content/gdrive\n",
            "/content/gdrive/My Drive/Pattern Lab - 203sem\n"
          ],
          "name": "stdout"
        }
      ]
    },
    {
      "cell_type": "code",
      "metadata": {
        "id": "pJpJW6DlXVmS"
      },
      "source": [
        "import numpy as np\r\n",
        "import pickle\r\n",
        "import random\r\n",
        "\r\n",
        "from sklearn.linear_model import LogisticRegression\r\n",
        "from sklearn.model_selection import cross_val_score, cross_val_predict\r\n",
        "from sklearn.metrics import confusion_matrix, matthews_corrcoef\r\n",
        "from xgboost import XGBClassifier\r\n",
        "from sklearn.ensemble import AdaBoostClassifier\r\n",
        "from sklearn.ensemble import RandomForestClassifier\r\n",
        "from sklearn.svm import SVC"
      ],
      "execution_count": 2,
      "outputs": []
    },
    {
      "cell_type": "code",
      "metadata": {
        "colab": {
          "base_uri": "https://localhost:8080/"
        },
        "id": "YGyeQ2xLXY7F",
        "outputId": "59c59eeb-0d25-4c60-cdf7-673607b09411"
      },
      "source": [
        "Xtrain = np.load(f'./final datas/Xtrain.npy')\r\n",
        "Ytrain = np.load(f'./final datas/Ytrain.npy')\r\n",
        "Xtest = np.load(f'./final datas/Xtest.npy')\r\n",
        "Ytest = np.load(f'./final datas/Ytest.npy')\r\n",
        "\r\n",
        "with open('index_dict.pickle', 'rb') as handle:\r\n",
        "    index_dict = pickle.load(handle)\r\n",
        "index_dict"
      ],
      "execution_count": 3,
      "outputs": [
        {
          "output_type": "execute_result",
          "data": {
            "text/plain": [
              "{'CKSNAP1': [164, 195],\n",
              " 'CKSNAP3': [196, 259],\n",
              " 'CKSNAP5': [260, 355],\n",
              " 'CKSNAP7': [356, 483],\n",
              " 'CKSNAP9': [484, 643],\n",
              " 'DAC7': [644, 685],\n",
              " 'EIIP': [686, 726],\n",
              " 'ENAC10': [875, 1002],\n",
              " 'ENAC5': [727, 874],\n",
              " 'Kmer1': [1003, 1006],\n",
              " 'Kmer2': [1007, 1022],\n",
              " 'Kmer3': [1023, 1086],\n",
              " 'Kmer4': [1087, 1342],\n",
              " 'Kmer5': [1343, 2366],\n",
              " 'NCP': [2367, 2489],\n",
              " 'PseEIIP': [2490, 2553],\n",
              " 'TAC7': [2554, 2567],\n",
              " 'binary': [0, 163]}"
            ]
          },
          "metadata": {
            "tags": []
          },
          "execution_count": 3
        }
      ]
    },
    {
      "cell_type": "code",
      "metadata": {
        "id": "0s1WjJ2TXcv0"
      },
      "source": [
        "random.seed(13)\r\n",
        "\r\n",
        "features = {1 : 'CKSNAP1', 2 : 'CKSNAP3', 3 : 'CKSNAP5', 4 : 'CKSNAP7', 5 : 'CKSNAP9', 6 : 'DAC7', 7 : 'EIIP', 8 : 'ENAC5', 9 : 'ENAC10', 10 : 'Kmer1', 11 : 'Kmer2', 12 : 'Kmer3', 13 : 'Kmer4', 14 : 'Kmer5', 15 : 'NCP', 16 : 'PseEIIP', 17 : 'TAC7', 18 : 'binary'}\r\n",
        "\r\n",
        "subgrp1 = [features[random.randint(1,18)] for i in range(5)]\r\n",
        "subgrp2 = [features[random.randint(1,18)] for i in range(5)]\r\n",
        "subgrp3 = [features[random.randint(1,18)] for i in range(5)]\r\n",
        "subgrp4 = [features[random.randint(1,18)] for i in range(5)]\r\n",
        "subgrp5 = [features[random.randint(1,18)] for i in range(5)]\r\n",
        "\r\n",
        "\r\n",
        "X1 = np.concatenate([Xtrain[ : ,  index_dict[x][0] : index_dict[x][1]+1] for x in subgrp1], axis = 1)\r\n",
        "X2 = np.concatenate([Xtrain[ : ,  index_dict[x][0] : index_dict[x][1]+1] for x in subgrp2], axis = 1)\r\n",
        "X3 = np.concatenate([Xtrain[ : ,  index_dict[x][0] : index_dict[x][1]+1] for x in subgrp3], axis = 1)\r\n",
        "X4 = np.concatenate([Xtrain[ : ,  index_dict[x][0] : index_dict[x][1]+1] for x in subgrp4], axis = 1)\r\n",
        "X5 = np.concatenate([Xtrain[ : ,  index_dict[x][0] : index_dict[x][1]+1] for x in subgrp5], axis = 1)\r\n",
        "\r\n",
        "Xs = [X1, X2, X3, X4, X5]\r\n"
      ],
      "execution_count": 4,
      "outputs": []
    },
    {
      "cell_type": "code",
      "metadata": {
        "colab": {
          "base_uri": "https://localhost:8080/"
        },
        "id": "WdTK7wm0ZGyj",
        "outputId": "f847ff2d-9398-424f-fc5a-3336fd79d8f0"
      },
      "source": [
        "subgroups = [subgrp1, subgrp2, subgrp3, subgrp4, subgrp5]\r\n",
        "for group in subgroups:\r\n",
        "  print(group)"
      ],
      "execution_count": 5,
      "outputs": [
        {
          "output_type": "stream",
          "text": [
            "['ENAC10', 'Kmer1', 'DAC7', 'ENAC5', 'CKSNAP9']\n",
            "['ENAC5', 'DAC7', 'CKSNAP9', 'CKSNAP5', 'binary']\n",
            "['EIIP', 'Kmer1', 'CKSNAP1', 'Kmer5', 'CKSNAP9']\n",
            "['CKSNAP1', 'ENAC10', 'CKSNAP9', 'CKSNAP5', 'ENAC10']\n",
            "['NCP', 'Kmer5', 'CKSNAP9', 'ENAC10', 'Kmer3']\n"
          ],
          "name": "stdout"
        }
      ]
    },
    {
      "cell_type": "code",
      "metadata": {
        "id": "Skn2ADPUiUWt"
      },
      "source": [
        "from sklearn.model_selection import KFold\r\n",
        "from sklearn.metrics import accuracy_score\r\n",
        "from numpy import mean\r\n",
        "\r\n",
        "kf = KFold(n_splits=5, shuffle = True)"
      ],
      "execution_count": 6,
      "outputs": []
    },
    {
      "cell_type": "markdown",
      "metadata": {
        "id": "iMlpgdfvljvz"
      },
      "source": [
        "***Logistic Regression***"
      ]
    },
    {
      "cell_type": "code",
      "metadata": {
        "colab": {
          "base_uri": "https://localhost:8080/"
        },
        "id": "mx9wQ-melivM",
        "outputId": "b600db07-fb88-445a-d08c-5a9d3aeae208"
      },
      "source": [
        "lg = LogisticRegression(max_iter=500)\r\n",
        "\r\n",
        "for i,X in enumerate(Xs):\r\n",
        "  train_acc = []\r\n",
        "  test_acc = []\r\n",
        "  train_sensitivity = []\r\n",
        "  test_sensitivity = []\r\n",
        "  train_specificity = []\r\n",
        "  test_specificity = []\r\n",
        "  train_mcc = []\r\n",
        "  test_mcc = []\r\n",
        "  for train_index, test_index in kf.split(X):\r\n",
        "    X_train, X_test = X[train_index], X[test_index]\r\n",
        "    y_train, y_test = Ytrain[train_index], Ytrain[test_index]\r\n",
        "    lg.fit(X_train, y_train)\r\n",
        "    y_pred = lg.predict(X_train)\r\n",
        "    train_acc.append(accuracy_score(y_train, y_pred))\r\n",
        "    cf = confusion_matrix(y_train, y_pred)\r\n",
        "    train_sensitivity.append(cf[0,0]/(cf[0,0] + cf[0,1]))\r\n",
        "    train_specificity.append(cf[1,1]/(cf[1,0] + cf[1,1]))\r\n",
        "    train_mcc.append(matthews_corrcoef(y_train, y_pred))\r\n",
        "\r\n",
        "    lg.fit(X_train, y_train)\r\n",
        "    y_pred = lg.predict(X_test)\r\n",
        "    test_acc.append(accuracy_score(y_test, y_pred))\r\n",
        "    cf = confusion_matrix(y_test, y_pred)\r\n",
        "    test_sensitivity.append(cf[0,0]/(cf[0,0] + cf[0,1]))\r\n",
        "    test_specificity.append(cf[1,1]/(cf[1,0] + cf[1,1]))\r\n",
        "    test_mcc.append(matthews_corrcoef(y_test, y_pred))\r\n",
        "  print(f'subgroup{i+1} accuracy in logistic regression \\n train -> {mean(train_acc)}  test -> {mean(test_acc)}')\r\n",
        "  print(f'subgroup{i+1} sensitivity in logistic regression \\n train -> {mean(train_sensitivity)}  test -> {mean(test_sensitivity)}')\r\n",
        "  print(f'subgroup{i+1} specificity in logistic regression \\n train -> {mean(train_specificity)}  test -> {mean(test_specificity)}')\r\n",
        "  print(f'subgroup{i+1} mcc in logistic regression \\n train -> {mean(train_mcc)}  test -> {mean(test_mcc)}')"
      ],
      "execution_count": null,
      "outputs": [
        {
          "output_type": "stream",
          "text": [
            "subgroup1 accuracy in logistic regression \n",
            " train -> 0.7980092081288873  test -> 0.7621876042847031\n",
            "subgroup1 sensitivity in logistic regression \n",
            " train -> 0.7992702334345018  test -> 0.7597934723309336\n",
            "subgroup1 specificity in logistic regression \n",
            " train -> 0.7967227568189822  test -> 0.7643131323899665\n",
            "subgroup1 mcc in logistic regression \n",
            " train -> 0.5960183875476167  test -> 0.5243348925904534\n",
            "subgroup2 accuracy in logistic regression \n",
            " train -> 0.8099947473175437  test -> 0.7722143378402662\n",
            "subgroup2 sensitivity in logistic regression \n",
            " train -> 0.8075766382632619  test -> 0.7695537218256228\n",
            "subgroup2 specificity in logistic regression \n",
            " train -> 0.8124346857448191  test -> 0.7753718773904958\n",
            "subgroup2 mcc in logistic regression \n",
            " train -> 0.6200189680009975  test -> 0.5448444591143934\n",
            "subgroup3 accuracy in logistic regression \n",
            " train -> 0.7344932949772112  test -> 0.7090989434928179\n",
            "subgroup3 sensitivity in logistic regression \n",
            " train -> 0.7527609772715235  test -> 0.7286947067361629\n",
            "subgroup3 specificity in logistic regression \n",
            " train -> 0.7160837875827127  test -> 0.6906068022893862\n",
            "subgroup3 mcc in logistic regression \n",
            " train -> 0.4692287395445877  test -> 0.41952742996111736\n",
            "subgroup4 accuracy in logistic regression \n",
            " train -> 0.7829085141374195  test -> 0.7521671048916173\n",
            "subgroup4 sensitivity in logistic regression \n",
            " train -> 0.785991797131561  test -> 0.7555326883644973\n",
            "subgroup4 specificity in logistic regression \n",
            " train -> 0.779772340051988  test -> 0.7486124727476441\n",
            "subgroup4 mcc in logistic regression \n",
            " train -> 0.5658068997846187  test -> 0.5046217926103427\n",
            "subgroup5 accuracy in logistic regression \n",
            " train -> 0.8066087045041694  test -> 0.7719319669516045\n",
            "subgroup5 sensitivity in logistic regression \n",
            " train -> 0.8007929354133434  test -> 0.7710817363922936\n",
            "subgroup5 specificity in logistic regression \n",
            " train -> 0.8124279877033338  test -> 0.7729876790104091\n",
            "subgroup5 mcc in logistic regression \n",
            " train -> 0.6132546391687368  test -> 0.5443572247844892\n"
          ],
          "name": "stdout"
        }
      ]
    },
    {
      "cell_type": "markdown",
      "metadata": {
        "id": "bapSdbmPsNlG"
      },
      "source": [
        "***XG Boost***"
      ]
    },
    {
      "cell_type": "code",
      "metadata": {
        "colab": {
          "base_uri": "https://localhost:8080/"
        },
        "id": "Sm67VOTbsRc2",
        "outputId": "804cec6d-33f0-44f1-a00a-af69e766fc5b"
      },
      "source": [
        "xgbst = XGBClassifier()\r\n",
        "\r\n",
        "for i,X in enumerate(Xs):\r\n",
        "  train_acc = []\r\n",
        "  test_acc = []\r\n",
        "  train_sensitivity = []\r\n",
        "  test_sensitivity = []\r\n",
        "  train_specificity = []\r\n",
        "  test_specificity = []\r\n",
        "  train_mcc = []\r\n",
        "  test_mcc = []\r\n",
        "  for train_index, test_index in kf.split(X):\r\n",
        "    X_train, X_test = X[train_index], X[test_index]\r\n",
        "    y_train, y_test = Ytrain[train_index], Ytrain[test_index]\r\n",
        "    xgbst.fit(X_train, y_train)\r\n",
        "    y_pred = xgbst.predict(X_train)\r\n",
        "    train_acc.append(accuracy_score(y_train, y_pred))\r\n",
        "    cf = confusion_matrix(y_train, y_pred)\r\n",
        "    train_sensitivity.append(cf[0,0]/(cf[0,0] + cf[0,1]))\r\n",
        "    train_specificity.append(cf[1,1]/(cf[1,0] + cf[1,1]))\r\n",
        "    train_mcc.append(matthews_corrcoef(y_train, y_pred))\r\n",
        "\r\n",
        "    xgbst.fit(X_train, y_train)\r\n",
        "    y_pred = xgbst.predict(X_test)\r\n",
        "    test_acc.append(accuracy_score(y_test, y_pred))\r\n",
        "    cf = confusion_matrix(y_test, y_pred)\r\n",
        "    test_sensitivity.append(cf[0,0]/(cf[0,0] + cf[0,1]))\r\n",
        "    test_specificity.append(cf[1,1]/(cf[1,0] + cf[1,1]))\r\n",
        "    test_mcc.append(matthews_corrcoef(y_test, y_pred))\r\n",
        "  print(f'subgroup{i+1} accuracy in XG boost \\n train -> {mean(train_acc)}  test -> {mean(test_acc)}')\r\n",
        "  print(f'subgroup{i+1} sensitivity in XG boost \\n train -> {mean(train_sensitivity)}  test -> {mean(test_sensitivity)}')\r\n",
        "  print(f'subgroup{i+1} specificity in XG boost \\n train -> {mean(train_specificity)}  test -> {mean(test_specificity)}')\r\n",
        "  print(f'subgroup{i+1} mcc in XG boost \\n train -> {mean(train_mcc)}  test -> {mean(test_mcc)}')"
      ],
      "execution_count": null,
      "outputs": [
        {
          "output_type": "stream",
          "text": [
            "subgroup1 accuracy in XG boost \n",
            " train -> 0.8450698955264159  test -> 0.7283302345878668\n",
            "subgroup1 sensitivity in XG boost \n",
            " train -> 0.8535979293508872  test -> 0.7330034835845263\n",
            "subgroup1 specificity in XG boost \n",
            " train -> 0.8365476458290532  test -> 0.7238065627711827\n",
            "subgroup1 mcc in XG boost \n",
            " train -> 0.6902493728721829  test -> 0.45709589442362725\n",
            "subgroup2 accuracy in XG boost \n",
            " train -> 0.8669412077868094  test -> 0.7711226259759215\n",
            "subgroup2 sensitivity in XG boost \n",
            " train -> 0.873760420053473  test -> 0.7712452228291922\n",
            "subgroup2 specificity in XG boost \n",
            " train -> 0.8600928227065093  test -> 0.771215200644976\n",
            "subgroup2 mcc in XG boost \n",
            " train -> 0.7339209084590337  test -> 0.5423043098574687\n",
            "subgroup3 accuracy in XG boost \n",
            " train -> 0.854685789396093  test -> 0.7667873160463674\n",
            "subgroup3 sensitivity in XG boost \n",
            " train -> 0.8629558740602146  test -> 0.7623726192045033\n",
            "subgroup3 specificity in XG boost \n",
            " train -> 0.8464279969428464  test -> 0.7713196715551565\n",
            "subgroup3 mcc in XG boost \n",
            " train -> 0.7095011206928904  test -> 0.5338515883644163\n",
            "subgroup4 accuracy in XG boost \n",
            " train -> 0.8235379097625379  test -> 0.7023279096119784\n",
            "subgroup4 sensitivity in XG boost \n",
            " train -> 0.8250327666120549  test -> 0.6994732059992511\n",
            "subgroup4 specificity in XG boost \n",
            " train -> 0.822037118497256  test -> 0.7056283640848758\n",
            "subgroup4 mcc in XG boost \n",
            " train -> 0.6470743923487705  test -> 0.405261453219809\n",
            "subgroup5 accuracy in XG boost \n",
            " train -> 0.8697861165481049  test -> 0.7762669101657187\n",
            "subgroup5 sensitivity in XG boost \n",
            " train -> 0.8791602544491072  test -> 0.7735459505995002\n",
            "subgroup5 specificity in XG boost \n",
            " train -> 0.8603602686436231  test -> 0.7788043929275671\n",
            "subgroup5 mcc in XG boost \n",
            " train -> 0.7397202513446655  test -> 0.5524512649821862\n"
          ],
          "name": "stdout"
        }
      ]
    },
    {
      "cell_type": "markdown",
      "metadata": {
        "id": "pYwc7W4Y0XSx"
      },
      "source": [
        "***Ada Boost***"
      ]
    },
    {
      "cell_type": "code",
      "metadata": {
        "colab": {
          "base_uri": "https://localhost:8080/"
        },
        "id": "hVg5VnHW0Z0w",
        "outputId": "2112dad4-80e7-4e25-8598-d8502e53847b"
      },
      "source": [
        "ab = AdaBoostClassifier()\r\n",
        "\r\n",
        "for i,X in enumerate(Xs):\r\n",
        "  train_acc = []\r\n",
        "  test_acc = []\r\n",
        "  train_sensitivity = []\r\n",
        "  test_sensitivity = []\r\n",
        "  train_specificity = []\r\n",
        "  test_specificity = []\r\n",
        "  train_mcc = []\r\n",
        "  test_mcc = []\r\n",
        "  for train_index, test_index in kf.split(X):\r\n",
        "    X_train, X_test = X[train_index], X[test_index]\r\n",
        "    y_train, y_test = Ytrain[train_index], Ytrain[test_index]\r\n",
        "    ab.fit(X_train, y_train)\r\n",
        "    y_pred = ab.predict(X_train)\r\n",
        "    train_acc.append(accuracy_score(y_train, y_pred))\r\n",
        "    cf = confusion_matrix(y_train, y_pred)\r\n",
        "    train_sensitivity.append(cf[0,0]/(cf[0,0] + cf[0,1]))\r\n",
        "    train_specificity.append(cf[1,1]/(cf[1,0] + cf[1,1]))\r\n",
        "    train_mcc.append(matthews_corrcoef(y_train, y_pred))\r\n",
        "\r\n",
        "    ab.fit(X_train, y_train)\r\n",
        "    y_pred = ab.predict(X_test)\r\n",
        "    test_acc.append(accuracy_score(y_test, y_pred))\r\n",
        "    cf = confusion_matrix(y_test, y_pred)\r\n",
        "    test_sensitivity.append(cf[0,0]/(cf[0,0] + cf[0,1]))\r\n",
        "    test_specificity.append(cf[1,1]/(cf[1,0] + cf[1,1]))\r\n",
        "    test_mcc.append(matthews_corrcoef(y_test, y_pred))\r\n",
        "  print(f'subgroup{i+1} accuracy in Ada boost \\n train -> {mean(train_acc)}  test -> {mean(test_acc)}')\r\n",
        "  print(f'subgroup{i+1} sensitivity in Ada boost \\n train -> {mean(train_sensitivity)}  test -> {mean(test_sensitivity)}')\r\n",
        "  print(f'subgroup{i+1} specificity in Ada boost \\n train -> {mean(train_specificity)}  test -> {mean(test_specificity)}')\r\n",
        "  print(f'subgroup{i+1} mcc in Ada boost \\n train -> {mean(train_mcc)}  test -> {mean(test_mcc)}')"
      ],
      "execution_count": null,
      "outputs": [
        {
          "output_type": "stream",
          "text": [
            "subgroup1 accuracy in Ada boost \n",
            " train -> 0.7560944299784872  test -> 0.7036829231621138\n",
            "subgroup1 sensitivity in Ada boost \n",
            " train -> 0.757843706845335  test -> 0.7079571819698474\n",
            "subgroup1 specificity in Ada boost \n",
            " train -> 0.7542984541052062  test -> 0.6991608409694111\n",
            "subgroup1 mcc in Ada boost \n",
            " train -> 0.5122387038428017  test -> 0.40752185385847006\n",
            "subgroup2 accuracy in Ada boost \n",
            " train -> 0.7871757053233679  test -> 0.7445870967505346\n",
            "subgroup2 sensitivity in Ada boost \n",
            " train -> 0.7810077146017175  test -> 0.7311334837486235\n",
            "subgroup2 specificity in Ada boost \n",
            " train -> 0.7933369521220605  test -> 0.7577631601935177\n",
            "subgroup2 mcc in Ada boost \n",
            " train -> 0.5744027896193985  test -> 0.4891008186819474\n",
            "subgroup3 accuracy in Ada boost \n",
            " train -> 0.7862948779353175  test -> 0.7421418381978137\n",
            "subgroup3 sensitivity in Ada boost \n",
            " train -> 0.7865480723067779  test -> 0.7441977047418804\n",
            "subgroup3 specificity in Ada boost \n",
            " train -> 0.7860130477400927  test -> 0.7405849192341247\n",
            "subgroup3 mcc in Ada boost \n",
            " train -> 0.5725871215274758  test -> 0.4846430661818177\n",
            "subgroup4 accuracy in Ada boost \n",
            " train -> 0.7363892588490274  test -> 0.6774103289070779\n",
            "subgroup4 sensitivity in Ada boost \n",
            " train -> 0.7382215351341623  test -> 0.6831640912972082\n",
            "subgroup4 specificity in Ada boost \n",
            " train -> 0.7345582731402025  test -> 0.6715084948730615\n",
            "subgroup4 mcc in Ada boost \n",
            " train -> 0.4727894820912308  test -> 0.35477030806139515\n",
            "subgroup5 accuracy in Ada boost \n",
            " train -> 0.7910351315268478  test -> 0.7383481669728741\n",
            "subgroup5 sensitivity in Ada boost \n",
            " train -> 0.7931429138813897  test -> 0.740587487419847\n",
            "subgroup5 specificity in Ada boost \n",
            " train -> 0.7888769672783263  test -> 0.7369279922004202\n",
            "subgroup5 mcc in Ada boost \n",
            " train -> 0.582049654792215  test -> 0.47725517773402304\n"
          ],
          "name": "stdout"
        }
      ]
    },
    {
      "cell_type": "markdown",
      "metadata": {
        "id": "b7x_X4yy2Lyb"
      },
      "source": [
        "***Random Forest***"
      ]
    },
    {
      "cell_type": "code",
      "metadata": {
        "colab": {
          "base_uri": "https://localhost:8080/"
        },
        "id": "eAHkO9612O_p",
        "outputId": "5e3a8a5d-8cf1-4d81-fbd6-4909dd91d76b"
      },
      "source": [
        "rf = RandomForestClassifier()\r\n",
        "\r\n",
        "for i,X in enumerate(Xs):\r\n",
        "  train_acc = []\r\n",
        "  test_acc = []\r\n",
        "  train_sensitivity = []\r\n",
        "  test_sensitivity = []\r\n",
        "  train_specificity = []\r\n",
        "  test_specificity = []\r\n",
        "  train_mcc = []\r\n",
        "  test_mcc = []\r\n",
        "  for train_index, test_index in kf.split(X):\r\n",
        "    X_train, X_test = X[train_index], X[test_index]\r\n",
        "    y_train, y_test = Ytrain[train_index], Ytrain[test_index]\r\n",
        "    rf.fit(X_train, y_train)\r\n",
        "    y_pred = rf.predict(X_train)\r\n",
        "    train_acc.append(accuracy_score(y_train, y_pred))\r\n",
        "    cf = confusion_matrix(y_train, y_pred)\r\n",
        "    train_sensitivity.append(cf[0,0]/(cf[0,0] + cf[0,1]))\r\n",
        "    train_specificity.append(cf[1,1]/(cf[1,0] + cf[1,1]))\r\n",
        "    train_mcc.append(matthews_corrcoef(y_train, y_pred))\r\n",
        "\r\n",
        "    rf.fit(X_train, y_train)\r\n",
        "    y_pred = rf.predict(X_test)\r\n",
        "    test_acc.append(accuracy_score(y_test, y_pred))\r\n",
        "    cf = confusion_matrix(y_test, y_pred)\r\n",
        "    test_sensitivity.append(cf[0,0]/(cf[0,0] + cf[0,1]))\r\n",
        "    test_specificity.append(cf[1,1]/(cf[1,0] + cf[1,1]))\r\n",
        "    test_mcc.append(matthews_corrcoef(y_test, y_pred))\r\n",
        "  print(f'subgroup{i+1} accuracy in Random forest \\n train -> {mean(train_acc)}  test -> {mean(test_acc)}')\r\n",
        "  print(f'subgroup{i+1} sensitivity in Random forest \\n train -> {mean(train_sensitivity)}  test -> {mean(test_sensitivity)}')\r\n",
        "  print(f'subgroup{i+1} specificity in Random forest \\n train -> {mean(train_specificity)}  test -> {mean(test_specificity)}')\r\n",
        "  print(f'subgroup{i+1} mcc in Random forest \\n train -> {mean(train_mcc)}  test -> {mean(test_mcc)}')"
      ],
      "execution_count": null,
      "outputs": [
        {
          "output_type": "stream",
          "text": [
            "subgroup1 accuracy in Random forest \n",
            " train -> 1.0  test -> 0.6923132776659295\n",
            "subgroup1 sensitivity in Random forest \n",
            " train -> 1.0  test -> 0.6974055415606969\n",
            "subgroup1 specificity in Random forest \n",
            " train -> 1.0  test -> 0.687639367223958\n",
            "subgroup1 mcc in Random forest \n",
            " train -> 1.0  test -> 0.38532021540917116\n",
            "subgroup2 accuracy in Random forest \n",
            " train -> 1.0  test -> 0.7185814713356876\n",
            "subgroup2 sensitivity in Random forest \n",
            " train -> 1.0  test -> 0.7269207505472675\n",
            "subgroup2 specificity in Random forest \n",
            " train -> 1.0  test -> 0.7099865701281234\n",
            "subgroup2 mcc in Random forest \n",
            " train -> 1.0  test -> 0.4369954490443602\n",
            "subgroup3 accuracy in Random forest \n",
            " train -> 1.0  test -> 0.6974582952866065\n",
            "subgroup3 sensitivity in Random forest \n",
            " train -> 1.0  test -> 0.6998728680806237\n",
            "subgroup3 specificity in Random forest \n",
            " train -> 1.0  test -> 0.6954831665062841\n",
            "subgroup3 mcc in Random forest \n",
            " train -> 1.0  test -> 0.3951562203428419\n",
            "subgroup4 accuracy in Random forest \n",
            " train -> 1.0  test -> 0.686074714603709\n",
            "subgroup4 sensitivity in Random forest \n",
            " train -> 1.0  test -> 0.6934793631290116\n",
            "subgroup4 specificity in Random forest \n",
            " train -> 1.0  test -> 0.6787551742284075\n",
            "subgroup4 mcc in Random forest \n",
            " train -> 1.0  test -> 0.37251441206267766\n",
            "subgroup5 accuracy in Random forest \n",
            " train -> 1.0  test -> 0.7028669813085141\n",
            "subgroup5 sensitivity in Random forest \n",
            " train -> 1.0  test -> 0.7039944717361077\n",
            "subgroup5 specificity in Random forest \n",
            " train -> 1.0  test -> 0.702384175219102\n",
            "subgroup5 mcc in Random forest \n",
            " train -> 1.0  test -> 0.40670533933595826\n"
          ],
          "name": "stdout"
        }
      ]
    },
    {
      "cell_type": "markdown",
      "metadata": {
        "id": "I4EJ_rZQ4efT"
      },
      "source": [
        "***SVC***"
      ]
    },
    {
      "cell_type": "code",
      "metadata": {
        "colab": {
          "base_uri": "https://localhost:8080/"
        },
        "id": "a93SWy_h4gia",
        "outputId": "7586b64e-075c-4678-b39e-50e40e0f09f7"
      },
      "source": [
        "svc = SVC()\r\n",
        "\r\n",
        "for i,X in enumerate(Xs):\r\n",
        "  train_acc = []\r\n",
        "  test_acc = []\r\n",
        "  train_sensitivity = []\r\n",
        "  test_sensitivity = []\r\n",
        "  train_specificity = []\r\n",
        "  test_specificity = []\r\n",
        "  train_mcc = []\r\n",
        "  test_mcc = []\r\n",
        "  for train_index, test_index in kf.split(X):\r\n",
        "    X_train, X_test = X[train_index], X[test_index]\r\n",
        "    y_train, y_test = Ytrain[train_index], Ytrain[test_index]\r\n",
        "    svc.fit(X_train, y_train)\r\n",
        "    y_pred = svc.predict(X_train)\r\n",
        "    train_acc.append(accuracy_score(y_train, y_pred))\r\n",
        "    cf = confusion_matrix(y_train, y_pred)\r\n",
        "    train_sensitivity.append(cf[0,0]/(cf[0,0] + cf[0,1]))\r\n",
        "    train_specificity.append(cf[1,1]/(cf[1,0] + cf[1,1]))\r\n",
        "    train_mcc.append(matthews_corrcoef(y_train, y_pred))\r\n",
        "\r\n",
        "    svc.fit(X_train, y_train)\r\n",
        "    y_pred = svc.predict(X_test)\r\n",
        "    test_acc.append(accuracy_score(y_test, y_pred))\r\n",
        "    cf = confusion_matrix(y_test, y_pred)\r\n",
        "    test_sensitivity.append(cf[0,0]/(cf[0,0] + cf[0,1]))\r\n",
        "    test_specificity.append(cf[1,1]/(cf[1,0] + cf[1,1]))\r\n",
        "    test_mcc.append(matthews_corrcoef(y_test, y_pred))\r\n",
        "  print(f'subgroup{i+1} accuracy in svc \\n train -> {mean(train_acc)}  test -> {mean(test_acc)}')\r\n",
        "  print(f'subgroup{i+1} sensitivity in svc \\n train -> {mean(train_sensitivity)}  test -> {mean(test_sensitivity)}')\r\n",
        "  print(f'subgroup{i+1} specificity in svc \\n train -> {mean(train_specificity)}  test -> {mean(test_specificity)}')\r\n",
        "  print(f'subgroup{i+1} mcc in svc \\n train -> {mean(train_mcc)}  test -> {mean(test_mcc)}')"
      ],
      "execution_count": null,
      "outputs": [
        {
          "output_type": "stream",
          "text": [
            "subgroup1 accuracy in svc \n",
            " train -> 0.8441900081644708  test -> 0.7502726529295064\n",
            "subgroup1 sensitivity in svc \n",
            " train -> 0.8572267581830767  test -> 0.7585940289872679\n",
            "subgroup1 specificity in svc \n",
            " train -> 0.8310956277315483  test -> 0.7423943195644365\n",
            "subgroup1 mcc in svc \n",
            " train -> 0.6886038150144722  test -> 0.5011262074020597\n",
            "subgroup2 accuracy in svc \n",
            " train -> 0.9117689892724681  test -> 0.7662555786586283\n",
            "subgroup2 sensitivity in svc \n",
            " train -> 0.9206440464144471  test -> 0.7677682510447441\n",
            "subgroup2 specificity in svc \n",
            " train -> 0.9028804681397002  test -> 0.7647904746199963\n",
            "subgroup2 mcc in svc \n",
            " train -> 0.8236952537401836  test -> 0.5326389789933934\n",
            "subgroup3 accuracy in svc \n",
            " train -> 0.7696367670347061  test -> 0.7218294699861748\n",
            "subgroup3 sensitivity in svc \n",
            " train -> 0.7884544787875216  test -> 0.7464192648348646\n",
            "subgroup3 specificity in svc \n",
            " train -> 0.7507748094900097  test -> 0.697456198545549\n",
            "subgroup3 mcc in svc \n",
            " train -> 0.5396399936523814  test -> 0.4442716122421215\n",
            "subgroup4 accuracy in svc \n",
            " train -> 0.797602337317592  test -> 0.7304953225445652\n",
            "subgroup4 sensitivity in svc \n",
            " train -> 0.8020094960257012  test -> 0.7357988952979806\n",
            "subgroup4 specificity in svc \n",
            " train -> 0.7931957002750544  test -> 0.7254020460201522\n",
            "subgroup4 mcc in svc \n",
            " train -> 0.5952353408841244  test -> 0.46129297186687035\n",
            "subgroup5 accuracy in svc \n",
            " train -> 0.8540086725432818  test -> 0.7608347910272066\n",
            "subgroup5 sensitivity in svc \n",
            " train -> 0.8575129467949079  test -> 0.7610100874810556\n",
            "subgroup5 specificity in svc \n",
            " train -> 0.8504712822752161  test -> 0.7605968573560526\n",
            "subgroup5 mcc in svc \n",
            " train -> 0.7080541181020312  test -> 0.5219292379935785\n"
          ],
          "name": "stdout"
        }
      ]
    },
    {
      "cell_type": "markdown",
      "metadata": {
        "id": "L_xC_E4BDex4"
      },
      "source": [
        "***Independent Test(Logistic Regression)***"
      ]
    },
    {
      "cell_type": "code",
      "metadata": {
        "colab": {
          "base_uri": "https://localhost:8080/"
        },
        "id": "xM2CpDLUDh5A",
        "outputId": "1e9762bf-b37c-4f57-c5e2-ae77368c84ec"
      },
      "source": [
        "lg = LogisticRegression(max_iter=500)\r\n",
        "\r\n",
        "acc = []\r\n",
        "sensitivity = []\r\n",
        "specificity = []\r\n",
        "mcc = []\r\n",
        "lg.fit(Xtrain, Ytrain)\r\n",
        "y_pred = lg.predict(Xtest)\r\n",
        "acc = accuracy_score(Ytest, y_pred)\r\n",
        "cf = confusion_matrix(Ytest, y_pred)\r\n",
        "sensitivity = (cf[0,0]/(cf[0,0] + cf[0,1]))\r\n",
        "specificity = (cf[1,1]/(cf[1,0] + cf[1,1]))\r\n",
        "mcc = matthews_corrcoef(Ytest, y_pred)\r\n",
        "\r\n",
        "print(f'acc -> {acc} \\n sensitivity -> {sensitivity} \\n specificity -> {specificity} \\n mcc -> {mcc}')"
      ],
      "execution_count": 8,
      "outputs": [
        {
          "output_type": "stream",
          "text": [
            "acc -> 0.7992424242424242 \n",
            " sensitivity -> 0.7727272727272727 \n",
            " specificity -> 0.8257575757575758 \n",
            " mcc -> 0.5993281610305964\n"
          ],
          "name": "stdout"
        }
      ]
    },
    {
      "cell_type": "markdown",
      "metadata": {
        "id": "xwS6xpGH0HZG"
      },
      "source": [
        "***Independent Test(XG Boost)***"
      ]
    },
    {
      "cell_type": "code",
      "metadata": {
        "colab": {
          "base_uri": "https://localhost:8080/"
        },
        "id": "OrK5TbU40CVo",
        "outputId": "5965c42d-2f4a-406a-b5e8-dc23aca3d516"
      },
      "source": [
        "xgbst = XGBClassifier()\r\n",
        "\r\n",
        "acc = []\r\n",
        "sensitivity = []\r\n",
        "specificity = []\r\n",
        "mcc = []\r\n",
        "xgbst.fit(Xtrain, Ytrain)\r\n",
        "y_pred = xgbst.predict(Xtest)\r\n",
        "acc = accuracy_score(Ytest, y_pred)\r\n",
        "cf = confusion_matrix(Ytest, y_pred)\r\n",
        "sensitivity = (cf[0,0]/(cf[0,0] + cf[0,1]))\r\n",
        "specificity = (cf[1,1]/(cf[1,0] + cf[1,1]))\r\n",
        "mcc = matthews_corrcoef(Ytest, y_pred)\r\n",
        "\r\n",
        "print(f'acc -> {acc} \\n sensitivity -> {sensitivity} \\n specificity -> {specificity} \\n mcc -> {mcc}')"
      ],
      "execution_count": 9,
      "outputs": [
        {
          "output_type": "stream",
          "text": [
            "acc -> 0.7916666666666666 \n",
            " sensitivity -> 0.803030303030303 \n",
            " specificity -> 0.7803030303030303 \n",
            " mcc -> 0.5834840459914051\n"
          ],
          "name": "stdout"
        }
      ]
    },
    {
      "cell_type": "markdown",
      "metadata": {
        "id": "47FFo-ZY0YJH"
      },
      "source": [
        "***Independent Test(Ada Boost)***"
      ]
    },
    {
      "cell_type": "code",
      "metadata": {
        "colab": {
          "base_uri": "https://localhost:8080/"
        },
        "id": "UY22n8Ad0Z84",
        "outputId": "06ccc5ae-4ae0-42ee-ad57-6b2d9e19aec0"
      },
      "source": [
        "ab = AdaBoostClassifier()\r\n",
        "\r\n",
        "acc = []\r\n",
        "sensitivity = []\r\n",
        "specificity = []\r\n",
        "mcc = []\r\n",
        "ab.fit(Xtrain, Ytrain)\r\n",
        "y_pred = ab.predict(Xtest)\r\n",
        "acc = accuracy_score(Ytest, y_pred)\r\n",
        "cf = confusion_matrix(Ytest, y_pred)\r\n",
        "sensitivity = (cf[0,0]/(cf[0,0] + cf[0,1]))\r\n",
        "specificity = (cf[1,1]/(cf[1,0] + cf[1,1]))\r\n",
        "mcc = matthews_corrcoef(Ytest, y_pred)\r\n",
        "\r\n",
        "print(f'acc -> {acc} \\n sensitivity -> {sensitivity} \\n specificity -> {specificity} \\n mcc -> {mcc}')"
      ],
      "execution_count": 10,
      "outputs": [
        {
          "output_type": "stream",
          "text": [
            "acc -> 0.7537878787878788 \n",
            " sensitivity -> 0.7348484848484849 \n",
            " specificity -> 0.7727272727272727 \n",
            " mcc -> 0.5079402853927962\n"
          ],
          "name": "stdout"
        }
      ]
    },
    {
      "cell_type": "markdown",
      "metadata": {
        "id": "qfasASVC0gnn"
      },
      "source": [
        "***Independent Test(Rand. forest)***"
      ]
    },
    {
      "cell_type": "code",
      "metadata": {
        "colab": {
          "base_uri": "https://localhost:8080/"
        },
        "id": "LshQM7Jh0lUP",
        "outputId": "32f213bc-a3cb-4330-9c1d-b0b4a68abb40"
      },
      "source": [
        "rf = RandomForestClassifier()\r\n",
        "\r\n",
        "acc = []\r\n",
        "sensitivity = []\r\n",
        "specificity = []\r\n",
        "mcc = []\r\n",
        "rf.fit(Xtrain, Ytrain)\r\n",
        "y_pred = rf.predict(Xtest)\r\n",
        "acc = accuracy_score(Ytest, y_pred)\r\n",
        "cf = confusion_matrix(Ytest, y_pred)\r\n",
        "sensitivity = (cf[0,0]/(cf[0,0] + cf[0,1]))\r\n",
        "specificity = (cf[1,1]/(cf[1,0] + cf[1,1]))\r\n",
        "mcc = matthews_corrcoef(Ytest, y_pred)\r\n",
        "\r\n",
        "print(f'acc -> {acc} \\n sensitivity -> {sensitivity} \\n specificity -> {specificity} \\n mcc -> {mcc}')"
      ],
      "execution_count": 11,
      "outputs": [
        {
          "output_type": "stream",
          "text": [
            "acc -> 0.7007575757575758 \n",
            " sensitivity -> 0.7272727272727273 \n",
            " specificity -> 0.6742424242424242 \n",
            " mcc -> 0.4020809181597672\n"
          ],
          "name": "stdout"
        }
      ]
    },
    {
      "cell_type": "markdown",
      "metadata": {
        "id": "uce9khGn0wen"
      },
      "source": [
        "***Independent Test(SVC)***"
      ]
    },
    {
      "cell_type": "code",
      "metadata": {
        "colab": {
          "base_uri": "https://localhost:8080/"
        },
        "id": "5yoAzDGf0zsH",
        "outputId": "28f3068c-9a0d-48ce-8d23-451d6c99c766"
      },
      "source": [
        "svc = SVC()\r\n",
        "\r\n",
        "acc = []\r\n",
        "sensitivity = []\r\n",
        "specificity = []\r\n",
        "mcc = []\r\n",
        "svc.fit(Xtrain, Ytrain)\r\n",
        "y_pred = svc.predict(Xtest)\r\n",
        "acc = accuracy_score(Ytest, y_pred)\r\n",
        "cf = confusion_matrix(Ytest, y_pred)\r\n",
        "sensitivity = (cf[0,0]/(cf[0,0] + cf[0,1]))\r\n",
        "specificity = (cf[1,1]/(cf[1,0] + cf[1,1]))\r\n",
        "mcc = matthews_corrcoef(Ytest, y_pred)\r\n",
        "\r\n",
        "print(f'acc -> {acc} \\n sensitivity -> {sensitivity} \\n specificity -> {specificity} \\n mcc -> {mcc}')"
      ],
      "execution_count": 12,
      "outputs": [
        {
          "output_type": "stream",
          "text": [
            "acc -> 0.803030303030303 \n",
            " sensitivity -> 0.803030303030303 \n",
            " specificity -> 0.803030303030303 \n",
            " mcc -> 0.6060606060606061\n"
          ],
          "name": "stdout"
        }
      ]
    }
  ]
}